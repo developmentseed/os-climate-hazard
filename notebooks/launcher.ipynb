{
 "cells": [
  {
   "attachments": {},
   "cell_type": "markdown",
   "metadata": {},
   "source": [
    "### Install packages\n",
    "\n",
    "Note that _hazard_ requires many more packages than _physrisk_, reflecting its role in generating indicators. There are a couple of ways to install the necessary packages.\n",
    "#### 1 Install using pipenv via command line (recommended)\n",
    "\n",
    "e.g. from Elyra JupyterLab, go File -> New -> Terminal to create a new terminal, then:\n",
    "\n",
    "    cd hazard\n",
    "    pipenv install\n",
    "\n",
    "#### 2 Install using pip in notebook\n",
    "\n",
    "First it's necessary to create requirements.txt from Pipfile and then install via pip:\n",
    "\n",
    "    pipenv requirements > requirements.txt\n",
    "    pip install -r requirements.txt\n",
    "\n",
    "https://pipenv.pypa.io/en/latest/advanced/  \n",
    "Might be useful for those who like to install in the notebook itself, but note that this appears to be a recent feature of pipenv (might not be installed in older images)."
   ]
  },
  {
   "attachments": {},
   "cell_type": "markdown",
   "metadata": {},
   "source": [
    "### Insert bucket name and credentials as environment variables\n",
    "Need file credentials.env at top level (i.e. same level as LICENSE), containing:\n",
    "\n",
    "OSC_S3_BUCKET=... \\\n",
    "OSC_S3_ACCESS_KEY=... \\\n",
    "OSC_S3_SECRET_KEY=..."
   ]
  },
  {
   "cell_type": "code",
   "execution_count": null,
   "metadata": {},
   "outputs": [],
   "source": [
    "import os, sys  # noqa: E402\n",
    "\n",
    "sys.path.append(\"../src\")\n",
    "import hazard.utilities.zarr_utilities as zarr_utilities  # noqa: E402\n",
    "\n",
    "os.environ[\"CREDENTIAL_DOTENV_DIR\"] = os.path.dirname(os.getcwd())\n",
    "zarr_utilities.set_credential_env_variables()"
   ]
  },
  {
   "attachments": {},
   "cell_type": "markdown",
   "metadata": {},
   "source": [
    "### Run cut-down hazard indicator creation job"
   ]
  },
  {
   "cell_type": "code",
   "execution_count": 1,
   "metadata": {},
   "outputs": [
    {
     "name": "stderr",
     "output_type": "stream",
     "text": [
      "/Users/ciaran/dev/os-climate-hazard/.venv/lib/python3.9/site-packages/urllib3/__init__.py:35: NotOpenSSLWarning: urllib3 v2 only supports OpenSSL 1.1.1+, currently the 'ssl' module is compiled with 'LibreSSL 2.8.3'. See: https://github.com/urllib3/urllib3/issues/3020\n",
      "  warnings.warn(\n"
     ]
    },
    {
     "name": "stdout",
     "output_type": "stream",
     "text": [
      "[2024-07-18 10:22:10,932] {multi_year_average.py:112} INFO - Calculating average indicator for batch item gcm=ukcp18, scenario=rcp85, central_year=2030, years=[2030]\n",
      "[2024-07-18 10:22:14,491] {days_tas_above.py:56} INFO - Starting calculation for year 2030\n",
      "[2024-07-18 10:22:21,905] {days_tas_above.py:68} INFO - Data used in DaysTasAboveIndicator\n",
      "[2024-07-18 10:22:21,905] {days_tas_above.py:69} INFO - <xarray.DataArray 'tas' (ensemble_member: 1, time: 360,\n",
      "                         projection_y_coordinate: 112,\n",
      "                         projection_x_coordinate: 82)>\n",
      "array([[[[12.960328 , 12.909746 , 12.8551235, ...,  6.873084 ,\n",
      "           6.625592 ,  6.480878 ],\n",
      "         [12.844946 , 12.796289 , 12.746939 , ...,  6.4200444,\n",
      "           6.290046 ,  6.1848907],\n",
      "         [12.728203 , 12.682791 , 12.637478 , ...,  5.9118495,\n",
      "           5.8598638,  5.7775555],\n",
      "         ...,\n",
      "         [ 6.377298 ,  6.390607 ,  6.3984194, ...,  5.6672983,\n",
      "           5.1292915,  4.122913 ],\n",
      "         [ 6.4750466,  6.521401 ,  6.529539 , ...,  5.4718456,\n",
      "           4.9292903,  3.9307506],\n",
      "         [ 6.513854 ,  6.555319 ,  6.5834146, ...,  5.2768207,\n",
      "           4.700803 ,  3.7677987]],\n",
      "\n",
      "        [[13.972203 , 13.945593 , 13.921662 , ...,  9.882634 ,\n",
      "           9.588954 ,  9.435212 ],\n",
      "         [13.889297 , 13.866122 , 13.844953 , ...,  9.604859 ,\n",
      "           9.433094 ,  9.309336 ],\n",
      "         [13.803182 , 13.782087 , 13.763249 , ...,  9.3641205,\n",
      "           9.200058 ,  9.1034   ],\n",
      "...\n",
      "         [10.586289 , 10.581395 , 10.57246  , ...,  7.457209 ,\n",
      "           7.3137326,  7.063826 ],\n",
      "         [10.488124 , 10.479893 , 10.481394 , ...,  7.377658 ,\n",
      "           7.1890244,  6.8924327],\n",
      "         [10.401841 , 10.400055 , 10.407483 , ...,  7.2707777,\n",
      "           7.1008043,  6.717041 ]],\n",
      "\n",
      "        [[13.82297  , 13.873725 , 13.920609 , ...,  7.3539357,\n",
      "           7.2047763,  7.077014 ],\n",
      "         [13.748195 , 13.795761 , 13.841319 , ...,  7.244575 ,\n",
      "           7.178638 ,  7.107228 ],\n",
      "         [13.681085 , 13.720642 , 13.762711 , ...,  7.104831 ,\n",
      "           7.0971227,  7.067867 ],\n",
      "         ...,\n",
      "         [10.665731 , 10.6632185, 10.660735 , ...,  7.98233  ,\n",
      "           7.668313 ,  7.253016 ],\n",
      "         [10.635845 , 10.639557 , 10.638485 , ...,  7.9464355,\n",
      "           7.5692406,  7.140104 ],\n",
      "         [10.611395 , 10.613185 , 10.6151495, ...,  7.8756347,\n",
      "           7.479612 ,  7.0092435]]]], dtype=float32)\n",
      "Coordinates:\n",
      "  * ensemble_member          (ensemble_member) int32 1\n",
      "  * time                     (time) object 2030-01-01 12:00:00 ... 2030-12-30...\n",
      "  * projection_y_coordinate  (projection_y_coordinate) float64 -1.02e+05 ... ...\n",
      "  * projection_x_coordinate  (projection_x_coordinate) float64 -2.1e+05 ... 7...\n",
      "    ensemble_member_id       (ensemble_member) |S27 b'HadREM3-GA705-r001i1p00...\n",
      "    grid_latitude            (projection_y_coordinate, projection_x_coordinate) float64 ...\n",
      "    grid_longitude           (projection_y_coordinate, projection_x_coordinate) float64 ...\n",
      "    month_number             (time) int32 1 1 1 1 1 1 1 ... 12 12 12 12 12 12 12\n",
      "    year                     (time) int32 2030 2030 2030 2030 ... 2030 2030 2030\n",
      "    yyyymmdd                 (time) |S64 b'20300101                          ...\n",
      "Attributes:\n",
      "    standard_name:  air_temperature\n",
      "    long_name:      Mean air temperature\n",
      "    units:          degC\n",
      "    description:    Mean air temperature\n",
      "    label_units:    °C\n",
      "    plot_label:     Mean air temperature at 1.5m (°C)\n",
      "    cell_methods:   time: mean\n",
      "    grid_mapping:   transverse_mercator\n"
     ]
    },
    {
     "name": "stderr",
     "output_type": "stream",
     "text": [
      "2024-07-18 10:22:22,001 - distributed.worker - WARNING - Compute Failed\n",
      "Key:       _calculate_single_year_indicators-ce1de2d3a84a3655b81dc914ce7f3f27\n",
      "Function:  _calculate_single_year_indicators\n",
      "args:      (<hazard.sources.ukcp18_rcp85.Ukcp18Rcp85 object at 0x179c5aa90>, BatchItem(resource=HazardResource(hazard_type='ChronicHeat', group_id='', path='chronic_heat/osc/v2/days_tas_above_{temp_c}c_{gcm}_{scenario}_{year}', indicator_id='days_tas/above/{temp_c}c', indicator_model_id=None, indicator_model_gcm='{gcm}', params={'temp_c': ['15'], 'gcm': ['ukcp18']}, display_name='Days with average temperature above {temp_c}°C/{gcm}', display_groups=['Days with average temperature above'], description=\"Days per year for which the average near-surface temperature 'tas' is above a threshold specified in °C.\\n\\n$$\\nI =  \\\\frac{365}{n_y} \\\\sum_{i = 1}^{n_y} \\\\boldsymbol{\\\\mathbb{1}}_{\\\\; \\\\, T^{avg}_i > T^\\\\text{ref}} \\\\nonumber\\n$$\\n\\n$I$ is the indicator, $T^\\\\text{avg}_i$ is the daily average near-surface temperature for day index $i$ in °C, $n_y$ is the number of days in the year\\nand $T^\\\\text{ref}$ is the reference temperature.\\nThe OS-Climate-generated indicators are inferred from downscaled CM\n",
      "kwargs:    {}\n",
      "Exception: 'ValueError(\"expect coordinates: \\'lat\\', \\'lon\\' and \\'time\\'\")'\n",
      "\n"
     ]
    },
    {
     "name": "stdout",
     "output_type": "stream",
     "text": [
      "[2024-07-18 10:22:22,002] {indicator_model.py:37} ERROR - Batch item failed\n",
      "Traceback (most recent call last):\n",
      "  File \"/Users/ciaran/dev/os-climate-hazard/src/hazard/indicator_model.py\", line 35, in run_all\n",
      "    self.run_single(item, source, target, client)\n",
      "  File \"/Users/ciaran/dev/os-climate-hazard/src/hazard/models/multi_year_average.py\", line 78, in run_single\n",
      "    averaged_indicators = self._averaged_indicators(client, source, target, item)\n",
      "  File \"/Users/ciaran/dev/os-climate-hazard/src/hazard/models/multi_year_average.py\", line 117, in _averaged_indicators\n",
      "    single_year_sets: List[List[Indicator]] = list(client.gather(futures))  # indicators for each year\n",
      "  File \"/Users/ciaran/dev/os-climate-hazard/.venv/lib/python3.9/site-packages/distributed/client.py\", line 2361, in gather\n",
      "    return self.sync(\n",
      "  File \"/Users/ciaran/dev/os-climate-hazard/.venv/lib/python3.9/site-packages/distributed/utils.py\", line 351, in sync\n",
      "    return sync(\n",
      "  File \"/Users/ciaran/dev/os-climate-hazard/.venv/lib/python3.9/site-packages/distributed/utils.py\", line 418, in sync\n",
      "    raise exc.with_traceback(tb)\n",
      "  File \"/Users/ciaran/dev/os-climate-hazard/.venv/lib/python3.9/site-packages/distributed/utils.py\", line 391, in f\n",
      "    result = yield future\n",
      "  File \"/Users/ciaran/dev/os-climate-hazard/.venv/lib/python3.9/site-packages/tornado/gen.py\", line 767, in run\n",
      "    value = future.result()\n",
      "  File \"/Users/ciaran/dev/os-climate-hazard/.venv/lib/python3.9/site-packages/distributed/client.py\", line 2224, in _gather\n",
      "    raise exception.with_traceback(traceback)\n",
      "  File \"/Users/ciaran/dev/os-climate-hazard/src/hazard/models/days_tas_above.py\", line 59, in _calculate_single_year_indicators\n",
      "    results = self._days_tas_above_indicators(tas, year, self.threshold_temps_c)\n",
      "  File \"/Users/ciaran/dev/os-climate-hazard/src/hazard/models/days_tas_above.py\", line 71, in _days_tas_above_indicators\n",
      "    raise ValueError(\"expect coordinates: 'lat', 'lon' and 'time'\")\n",
      "ValueError: expect coordinates: 'lat', 'lon' and 'time'\n"
     ]
    }
   ],
   "source": [
    "import sys\n",
    "from dask.distributed import Client, LocalCluster  # noqa: E402\n",
    "import logging  # noqa: E402\n",
    "from hazard.docs_store import DocStore  # type: ignore # noqa: E402\n",
    "from hazard.models.days_tas_above import DaysTasAboveIndicator  # noqa: E402\n",
    "from hazard.sources.nex_gddp_cmip6 import NexGddpCmip6  # noqa: E402\n",
    "from hazard.sources.ukcp18_rcp85 import Ukcp18Rcp85\n",
    "from hazard.sources.osc_zarr import OscZarr  # noqa: E402\n",
    "import zarr\n",
    "\n",
    "logging.basicConfig(\n",
    "    level=logging.INFO,\n",
    "    format=\"[%(asctime)s] {%(filename)s:%(lineno)d} %(levelname)s - %(message)s\",\n",
    "    handlers=[\n",
    "        logging.FileHandler(filename=\"batch.log\"),\n",
    "        logging.StreamHandler(sys.stdout),\n",
    "    ],\n",
    ")\n",
    "\n",
    "docs_store = DocStore(prefix=\"hazard_test\")\n",
    "\n",
    "cluster = LocalCluster(processes=False)\n",
    "client = Client(cluster)\n",
    "\n",
    "gcm = \"ukcp18\"\n",
    "scenario = \"rcp85\"\n",
    "year = 2030\n",
    "import os\n",
    "source = Ukcp18Rcp85(os.environ[\"CEDA_FTP_URL\"], os.environ[\"CEDA_USERNAME\"], os.environ[\"CEDA_FTP_PASSWORD\"])\n",
    "# target = OscZarr(prefix=\"hazard_test\")  # test prefix is \"hazard_test\"; main one \"hazard\"\n",
    "\n",
    "# as an alternative, we can create a local target:\n",
    "test_output_dir = os.path.join(os.getcwd(), \"src/test/test_output\")\n",
    "store = zarr.DirectoryStore(os.path.join(test_output_dir, 'hazard', 'hazard.zarr'))\n",
    "target = OscZarr(store=store)\n",
    "\n",
    "# cut down the transform\n",
    "model = DaysTasAboveIndicator(\n",
    "    threshold_temps_c=[15],\n",
    "    window_years=1,\n",
    "    gcms=[gcm],\n",
    "    scenarios=[scenario],\n",
    "    central_years=[year],\n",
    ")\n",
    "# to do the full job, simply:\n",
    "# model = DaysTasAboveIndicator()\n",
    "\n",
    "# docs_store.update_inventory(model.inventory())\n",
    "\n",
    "model.run_all(source, target, client=client)\n",
    "# can also do:\n",
    "# items = list(model.batch_items())\n",
    "# model.run_single(items[0], source, target, client=client)"
   ]
  },
  {
   "attachments": {},
   "cell_type": "markdown",
   "metadata": {},
   "source": [
    "### Plot one of the indicators "
   ]
  },
  {
   "cell_type": "code",
   "execution_count": null,
   "metadata": {},
   "outputs": [],
   "source": [
    "from hazard.sources.osc_zarr import OscZarr  # noqa: E402\n",
    "import os, os.path  # noqa: E402\n",
    "\n",
    "test_output_dir = os.path.join(os.getcwd(), \"src/test/test_output\")\n",
    "store = zarr.DirectoryStore(os.path.join(test_output_dir, 'hazard', 'hazard.zarr'))\n",
    "target = OscZarr(store=store)\n",
    "da = target.read(\"chronic_heat/osc/v2/days_tas_above_15c_NorESM2-MM_ssp585_2030\")\n",
    "da.plot()"
   ]
  },
  {
   "attachments": {},
   "cell_type": "markdown",
   "metadata": {},
   "source": [
    "### List contents of 'directory'\n",
    "\n",
    "Use s3fs to treat like directory structure, but some care needed:\n",
    "\n",
    "- s3fs caches so care needed if objects are changed outside of s3fs\n",
    "- Best to use boto3 client for handling large number of objects (see below)"
   ]
  },
  {
   "cell_type": "code",
   "execution_count": null,
   "metadata": {},
   "outputs": [],
   "source": [
    "import s3fs  # noqa: E402\n",
    "\n",
    "s3 = s3fs.S3FileSystem(\n",
    "    anon=False,\n",
    "    key=os.environ[\"OSC_S3_ACCESS_KEY\"],\n",
    "    secret=os.environ[\"OSC_S3_SECRET_KEY\"],\n",
    ")\n",
    "s3.ls(os.environ[\"OSC_S3_BUCKET\"] + \"/hazard_test/hazard.zarr\")"
   ]
  },
  {
   "attachments": {},
   "cell_type": "markdown",
   "metadata": {},
   "source": [
    "### Copy from one bucket to another bucket\n",
    "\n",
    "Use boto3 client and paginator for dealing with large number of objects.\n",
    "\n",
    "Some care needed if trying to move objects between buckets with different credentials: \\\n",
    "https://stackoverflow.com/questions/65577223/aws-s3-copy-object-from-one-bucket-to-another-with-different-credentials"
   ]
  },
  {
   "cell_type": "code",
   "execution_count": null,
   "metadata": {},
   "outputs": [],
   "source": [
    "import boto3  # noqa: E402\n",
    "\n",
    "bucket_name = os.environ[\"OSC_S3_BUCKET\"]\n",
    "prefix = \"hazard_test/hazard.zarr/chronic_heat/osc/v2\"\n",
    "\n",
    "s3_client = boto3.client(\n",
    "    \"s3\",\n",
    "    aws_access_key_id=os.environ[\"OSC_S3_ACCESS_KEY\"],\n",
    "    aws_secret_access_key=os.environ[\"OSC_S3_SECRET_KEY\"],\n",
    ")\n",
    "\n",
    "paginator = s3_client.get_paginator(\"list_objects_v2\")\n",
    "\n",
    "pages = paginator.paginate(Bucket=bucket_name, Prefix=prefix)\n",
    "\n",
    "# get the list of keys with the given prefix\n",
    "keys = []\n",
    "for page in pages:\n",
    "    for objs in page[\"Contents\"]:\n",
    "        if isinstance(objs, list):\n",
    "            keys.extend([obj[\"Key\"] for obj in objs])\n",
    "        else:\n",
    "            keys.append(objs[\"Key\"])\n",
    "\n",
    "print(keys)"
   ]
  },
  {
   "cell_type": "code",
   "execution_count": null,
   "metadata": {},
   "outputs": [],
   "source": [
    "# Use this script to promote from hazard_test to hazard\n",
    "\n",
    "target_bucket_name = \"...\"\n",
    "# might be same as bucket_name\n",
    "\n",
    "for key in keys:\n",
    "    copy_source = {\"Bucket\": bucket_name, \"Key\": key}\n",
    "    target_key = key.replace(\"hazard_test/hazard.zarr\", \"hazard/hazard.zarr\")\n",
    "    print(f\"{key} to {target_key} for bucket {bucket_name}\")\n",
    "    s3_client.copy_object(CopySource=copy_source, Bucket=target_bucket_name, Key=target_key)"
   ]
  }
 ],
 "metadata": {
  "kernelspec": {
   "display_name": "Python 3 (ipykernel)",
   "language": "python",
   "name": "python3"
  },
  "language_info": {
   "codemirror_mode": {
    "name": "ipython",
    "version": 3
   },
   "file_extension": ".py",
   "mimetype": "text/x-python",
   "name": "python",
   "nbconvert_exporter": "python",
   "pygments_lexer": "ipython3",
   "version": "3.9.6"
  }
 },
 "nbformat": 4,
 "nbformat_minor": 4
}
